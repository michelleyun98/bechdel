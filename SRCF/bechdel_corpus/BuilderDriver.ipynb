{
 "cells": [
  {
   "cell_type": "code",
   "execution_count": 6,
   "id": "0ab8f974-9e5c-44d2-a403-91c74e1a8a45",
   "metadata": {},
   "outputs": [],
   "source": [
    "from BechdelCorpusBuilder import *"
   ]
  },
  {
   "cell_type": "code",
   "execution_count": 7,
   "id": "fe9d635c-6d21-41c3-911e-907d4b380d97",
   "metadata": {},
   "outputs": [
    {
     "name": "stdout",
     "output_type": "stream",
     "text": [
      "BEGIN BUILD\n",
      "\n",
      "sense-and-sensibility folder already exists.\n",
      "\n",
      "pride-and-prejudice folder already exists.\n",
      "\n",
      "mansfield-park folder already exists.\n",
      "\n",
      "emma_jane-austen folder already exists.\n",
      "\n",
      "northanger-abbey folder already exists.\n",
      "\n",
      "persuasion folder already exists.\n",
      "\n",
      "wuthering-heights folder already exists.\n",
      "\n",
      "moby-dick folder already exists.\n",
      "\n",
      "Adding Little Women to corpus\n",
      "\tLittle Women successfully added to corpus\n",
      "\n",
      "\n",
      "BUILD COMPLETE\n"
     ]
    }
   ],
   "source": [
    "B = BechdelCorpus(\"books.txt\")"
   ]
  },
  {
   "cell_type": "code",
   "execution_count": null,
   "id": "19ec2211-01c4-411f-9f91-80014bdb3e6e",
   "metadata": {},
   "outputs": [],
   "source": []
  }
 ],
 "metadata": {
  "kernelspec": {
   "display_name": "Python 3 (ipykernel)",
   "language": "python",
   "name": "python3"
  },
  "language_info": {
   "codemirror_mode": {
    "name": "ipython",
    "version": 3
   },
   "file_extension": ".py",
   "mimetype": "text/x-python",
   "name": "python",
   "nbconvert_exporter": "python",
   "pygments_lexer": "ipython3",
   "version": "3.10.6"
  }
 },
 "nbformat": 4,
 "nbformat_minor": 5
}
