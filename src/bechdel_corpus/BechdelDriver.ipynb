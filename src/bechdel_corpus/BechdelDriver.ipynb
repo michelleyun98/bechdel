{
 "cells": [
  {
   "cell_type": "code",
   "execution_count": 5,
   "id": "0ab8f974-9e5c-44d2-a403-91c74e1a8a45",
   "metadata": {},
   "outputs": [],
   "source": [
    "from BechdelCorpus import *"
   ]
  },
  {
   "cell_type": "code",
   "execution_count": 6,
   "id": "fe9d635c-6d21-41c3-911e-907d4b380d97",
   "metadata": {},
   "outputs": [
    {
     "name": "stdout",
     "output_type": "stream",
     "text": [
      "BEGIN INIT\n",
      "Sense_and_Sensibility file already exists\n",
      "\n",
      "Pride_and_Prejudice file already exists\n",
      "\n",
      "Mansfield_Park file already exists\n",
      "\n",
      "Emma file already exists\n",
      "\n",
      "Northanger_Abbey file already exists\n",
      "\n",
      "Persuasion file already exists\n",
      "\n",
      "Mansfield_Park-chapters folder already exists\n",
      "\n",
      "Sense_and_Sensibility-chapters folder already exists\n",
      "\n",
      "Northanger_Abbey-chapters folder already exists\n",
      "\n",
      "Persuasion-chapters folder already exists\n",
      "\n",
      "Emma-chapters folder already exists\n",
      "\n",
      "Pride_and_Prejudice-chapters folder already exists\n",
      "\n",
      "FINISHED INIT\n"
     ]
    }
   ],
   "source": [
    "B = BechdelCorpus()"
   ]
  },
  {
   "cell_type": "code",
   "execution_count": null,
   "id": "421f31aa-1322-4075-be74-180f8e37676c",
   "metadata": {},
   "outputs": [],
   "source": []
  }
 ],
 "metadata": {
  "kernelspec": {
   "display_name": "Python 3 (ipykernel)",
   "language": "python",
   "name": "python3"
  },
  "language_info": {
   "codemirror_mode": {
    "name": "ipython",
    "version": 3
   },
   "file_extension": ".py",
   "mimetype": "text/x-python",
   "name": "python",
   "nbconvert_exporter": "python",
   "pygments_lexer": "ipython3",
   "version": "3.10.6"
  }
 },
 "nbformat": 4,
 "nbformat_minor": 5
}
