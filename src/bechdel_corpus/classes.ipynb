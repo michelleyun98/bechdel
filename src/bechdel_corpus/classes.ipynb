{
 "cells": [
  {
   "cell_type": "code",
   "execution_count": 1,
   "id": "e403baf9-6812-4fed-b5a5-c61884f7aa35",
   "metadata": {},
   "outputs": [],
   "source": [
    "from functions import *"
   ]
  },
  {
   "cell_type": "code",
   "execution_count": 3,
   "id": "3f240515-5284-4809-868f-8c6f6a9c429b",
   "metadata": {},
   "outputs": [
    {
     "data": {
      "text/plain": [
       "'/Users/michelleyun/bechdel/src/bechdel_corpus'"
      ]
     },
     "execution_count": 3,
     "metadata": {},
     "output_type": "execute_result"
    }
   ],
   "source": [
    "os.getcwd()"
   ]
  },
  {
   "cell_type": "code",
   "execution_count": 2,
   "id": "5cfd84ed-b072-4bbe-92ba-2e3035d3bcb6",
   "metadata": {},
   "outputs": [],
   "source": [
    "def chapterize(DIR = DIRNAME):\n",
    "    cwd = os.getcwd()\n",
    "    os.chdir(cwd + DIR)\n",
    "    for text in os.listdir():\n",
    "        if text.endswith('txt'):\n",
    "            chapterized_folder = text.split(\".\")[0] + \"-chapters\"\n",
    "            if os.path.isdir(chapterized_folder):\n",
    "                print(f\"{chapterized_folder} folder already exists\\n\")\n",
    "            else:\n",
    "                print(f\"{chapterized_folder} folder does not already exist, chapterizing...\")\n",
    "                !chapterize {Path(text)}\n",
    "                print(f\"\\t{chapterized_folder} created successfully\\n\")\n",
    "    os.chdir('..')"
   ]
  },
  {
   "cell_type": "code",
   "execution_count": 6,
   "id": "33740188-31ca-4184-9dee-a5719eaf627d",
   "metadata": {},
   "outputs": [],
   "source": [
    "class BechdelCorpus:\n",
    "    def __init__(self, titles='titles.txt'):\n",
    "        self.text = add_texts_from_file(titles)\n",
    "        self.titles = get_book_titles(titles)\n",
    "    def chapterize(self):\n",
    "        cwd = os.getcwd()\n",
    "        os.chdir(cwd + '/' + DIRNAME)\n",
    "        for text in os.listdir():\n",
    "            if text.endswith('txt'):\n",
    "                chapterized_folder = text.split(\".\")[0] + \"-chapters\"\n",
    "                if os.path.isdir(chapterized_folder):\n",
    "                    print(f\"{chapterized_folder} folder already exists\\n\")\n",
    "                else:\n",
    "                    print(f\"{chapterized_folder} folder does not already exist, chapterizing...\")\n",
    "                    !chapterize {Path(text)}\n",
    "                    print(f\"\\t{chapterized_folder} created successfully\\n\")\n",
    "        os.chdir('..')"
   ]
  },
  {
   "cell_type": "code",
   "execution_count": 7,
   "id": "5f45f4f4-6faf-4a05-9074-0731c1cca26e",
   "metadata": {},
   "outputs": [
    {
     "name": "stdout",
     "output_type": "stream",
     "text": [
      "Sense and Sensibility file already exists\n",
      "Pride and Prejudice file already exists\n",
      "Mansfield Park file already exists\n",
      "Emma file already exists\n",
      "Northanger Abbey file already exists\n",
      "Persuasion file already exists\n",
      "Lady Susan file already exists\n"
     ]
    }
   ],
   "source": [
    "B = BechdelCorpus()"
   ]
  },
  {
   "cell_type": "code",
   "execution_count": 8,
   "id": "448b9e74-e388-4ca3-9228-1e2046ea6042",
   "metadata": {},
   "outputs": [
    {
     "name": "stdout",
     "output_type": "stream",
     "text": [
      "Mansfield_Park-chapters folder already exists\n",
      "\n",
      "Sense_and_Sensibility-chapters folder already exists\n",
      "\n",
      "Northanger_Abbey-chapters folder already exists\n",
      "\n",
      "Persuasion-chapters folder already exists\n",
      "\n",
      "Emma-chapters folder already exists\n",
      "\n",
      "Lady_Susan-chapters folder already exists\n",
      "\n",
      "Pride_and_Prejudice-chapters folder already exists\n",
      "\n"
     ]
    }
   ],
   "source": [
    "B.chapterize()"
   ]
  }
 ],
 "metadata": {
  "kernelspec": {
   "display_name": "Python 3 (ipykernel)",
   "language": "python",
   "name": "python3"
  },
  "language_info": {
   "codemirror_mode": {
    "name": "ipython",
    "version": 3
   },
   "file_extension": ".py",
   "mimetype": "text/x-python",
   "name": "python",
   "nbconvert_exporter": "python",
   "pygments_lexer": "ipython3",
   "version": "3.10.6"
  }
 },
 "nbformat": 4,
 "nbformat_minor": 5
}
