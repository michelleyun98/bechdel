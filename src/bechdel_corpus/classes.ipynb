{
 "cells": [
  {
   "cell_type": "code",
   "execution_count": 1,
   "id": "e403baf9-6812-4fed-b5a5-c61884f7aa35",
   "metadata": {},
   "outputs": [],
   "source": [
    "from functions import *"
   ]
  },
  {
   "cell_type": "code",
   "execution_count": 2,
   "id": "33740188-31ca-4184-9dee-a5719eaf627d",
   "metadata": {},
   "outputs": [],
   "source": [
    "class BechdelCorpus:\n",
    "    def __init__(self, titles='titles.txt'):\n",
    "        self.text = add_texts_from_file(titles)\n",
    "        self.titles = get_book_titles(titles)"
   ]
  }
 ],
 "metadata": {
  "kernelspec": {
   "display_name": "Python 3 (ipykernel)",
   "language": "python",
   "name": "python3"
  },
  "language_info": {
   "codemirror_mode": {
    "name": "ipython",
    "version": 3
   },
   "file_extension": ".py",
   "mimetype": "text/x-python",
   "name": "python",
   "nbconvert_exporter": "python",
   "pygments_lexer": "ipython3",
   "version": "3.10.6"
  }
 },
 "nbformat": 4,
 "nbformat_minor": 5
}
