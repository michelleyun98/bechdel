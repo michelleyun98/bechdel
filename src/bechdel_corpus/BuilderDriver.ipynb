{
 "cells": [
  {
   "cell_type": "code",
   "execution_count": 4,
   "id": "0ab8f974-9e5c-44d2-a403-91c74e1a8a45",
   "metadata": {},
   "outputs": [],
   "source": [
    "from BechdelCorpusBuilder import *"
   ]
  },
  {
   "cell_type": "code",
   "execution_count": 2,
   "id": "ce4dd461-3182-413f-96db-32baf9efb2d4",
   "metadata": {},
   "outputs": [],
   "source": [
    "## Edit this path\n",
    "HOME_DIR = '/Users/michelleyun/bechdel/src/bechdel_corpus'"
   ]
  },
  {
   "cell_type": "code",
   "execution_count": 5,
   "id": "f308e403-e603-4168-ac7a-9167dee05223",
   "metadata": {},
   "outputs": [
    {
     "name": "stdout",
     "output_type": "stream",
     "text": [
      "BEGIN BUILD\n",
      "\n",
      "Adding Sense and Sensibility to corpus\n",
      "sense-and-sensibility_11\n",
      "sense-and-sensibility_23\n",
      "\tSense and Sensibility successfully added to corpus\n",
      "\n",
      "\n",
      "Adding Pride and Prejudice to corpus\n",
      "\tPride and Prejudice successfully added to corpus\n",
      "\n",
      "\n",
      "Adding Mansfield Park to corpus\n",
      "\tMansfield Park successfully added to corpus\n",
      "\n",
      "\n",
      "Adding Emma to corpus\n",
      "\tEmma successfully added to corpus\n",
      "\n",
      "\n",
      "Adding Northanger Abbey to corpus\n",
      "northanger-abbey_1\n",
      "\tNorthanger Abbey successfully added to corpus\n",
      "\n",
      "\n",
      "Adding Persuasion to corpus\n",
      "\tPersuasion successfully added to corpus\n",
      "\n",
      "\n",
      "Adding Wuthering Heights to corpus\n",
      "\tWuthering Heights successfully added to corpus\n",
      "\n",
      "\n",
      "Adding Moby Dick to corpus\n",
      "moby-dick_17\n",
      "moby-dick_28\n",
      "\tMoby Dick successfully added to corpus\n",
      "\n",
      "\n",
      "Adding Little Women to corpus\n",
      "\tLittle Women successfully added to corpus\n",
      "\n",
      "\n",
      "BUILD COMPLETE\n"
     ]
    }
   ],
   "source": [
    "Bechdel = BechdelCorpus('books.txt', HOME_DIR)"
   ]
  }
 ],
 "metadata": {
  "kernelspec": {
   "display_name": "Python 3 (ipykernel)",
   "language": "python",
   "name": "python3"
  },
  "language_info": {
   "codemirror_mode": {
    "name": "ipython",
    "version": 3
   },
   "file_extension": ".py",
   "mimetype": "text/x-python",
   "name": "python",
   "nbconvert_exporter": "python",
   "pygments_lexer": "ipython3",
   "version": "3.10.6"
  }
 },
 "nbformat": 4,
 "nbformat_minor": 5
}
