{
 "cells": [
  {
   "cell_type": "code",
   "execution_count": 1,
   "id": "0ab8f974-9e5c-44d2-a403-91c74e1a8a45",
   "metadata": {},
   "outputs": [],
   "source": [
    "from BechdelCorpusBuilder import *"
   ]
  },
  {
   "cell_type": "code",
   "execution_count": 2,
   "id": "ce4dd461-3182-413f-96db-32baf9efb2d4",
   "metadata": {},
   "outputs": [],
   "source": [
    "## Edit this path\n",
    "HOME_DIR = '/Users/michelleyun/bechdel/src/bechdel_corpus'"
   ]
  },
  {
   "cell_type": "code",
   "execution_count": 3,
   "id": "f308e403-e603-4168-ac7a-9167dee05223",
   "metadata": {},
   "outputs": [
    {
     "name": "stdout",
     "output_type": "stream",
     "text": [
      "BEGIN BUILD\n",
      "\n",
      "sense-and-sensibility folder already exists.\n",
      "\n",
      "pride-and-prejudice folder already exists.\n",
      "\n",
      "mansfield-park folder already exists.\n",
      "\n",
      "emma_jane-austen folder already exists.\n",
      "\n",
      "northanger-abbey folder already exists.\n",
      "\n",
      "persuasion folder already exists.\n",
      "\n",
      "wuthering-heights folder already exists.\n",
      "\n",
      "moby-dick folder already exists.\n",
      "\n",
      "little-women folder already exists.\n",
      "\n",
      "BUILD COMPLETE\n",
      "WRITING TO FILE\n",
      "To access corpus contents, use BechdelCorpusObject.read_corpus()\n"
     ]
    }
   ],
   "source": [
    "Bechdel = BechdelCorpus('books.txt', HOME_DIR)"
   ]
  },
  {
   "cell_type": "code",
   "execution_count": 5,
   "id": "689e8241-acfa-46f1-bb10-e55622d373c1",
   "metadata": {},
   "outputs": [],
   "source": [
    "reader = Bechdel.read_corpus()"
   ]
  }
 ],
 "metadata": {
  "kernelspec": {
   "display_name": "Python 3 (ipykernel)",
   "language": "python",
   "name": "python3"
  },
  "language_info": {
   "codemirror_mode": {
    "name": "ipython",
    "version": 3
   },
   "file_extension": ".py",
   "mimetype": "text/x-python",
   "name": "python",
   "nbconvert_exporter": "python",
   "pygments_lexer": "ipython3",
   "version": "3.10.6"
  }
 },
 "nbformat": 4,
 "nbformat_minor": 5
}
