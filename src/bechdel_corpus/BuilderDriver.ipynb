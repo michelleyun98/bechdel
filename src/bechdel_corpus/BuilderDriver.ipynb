{
 "cells": [
  {
   "cell_type": "code",
   "execution_count": 1,
   "id": "0ab8f974-9e5c-44d2-a403-91c74e1a8a45",
   "metadata": {},
   "outputs": [],
   "source": [
    "from BechdelCorpusBuilder import *"
   ]
  },
  {
   "cell_type": "code",
   "execution_count": 2,
   "id": "ce4dd461-3182-413f-96db-32baf9efb2d4",
   "metadata": {},
   "outputs": [],
   "source": [
    "## Edit this path\n",
    "HOME_DIR = '/Users/michelleyun/bechdel/src/bechdel_corpus'"
   ]
  },
  {
   "cell_type": "code",
   "execution_count": null,
   "id": "fd358910-4459-45ac-81cf-a51a87933d95",
   "metadata": {},
   "outputs": [],
   "source": [
    "##Uncomment and run\n",
    "#corpus = BechdelCorpus('books.txt', HOME_DIR)"
   ]
  }
 ],
 "metadata": {
  "kernelspec": {
   "display_name": "Python 3 (ipykernel)",
   "language": "python",
   "name": "python3"
  },
  "language_info": {
   "codemirror_mode": {
    "name": "ipython",
    "version": 3
   },
   "file_extension": ".py",
   "mimetype": "text/x-python",
   "name": "python",
   "nbconvert_exporter": "python",
   "pygments_lexer": "ipython3",
   "version": "3.10.6"
  }
 },
 "nbformat": 4,
 "nbformat_minor": 5
}
