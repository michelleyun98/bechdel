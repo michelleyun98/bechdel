{
 "cells": [
  {
   "cell_type": "code",
   "execution_count": 34,
   "id": "0ab8f974-9e5c-44d2-a403-91c74e1a8a45",
   "metadata": {},
   "outputs": [],
   "source": [
    "from BechdelCorpusBuilder import *"
   ]
  },
  {
   "cell_type": "code",
   "execution_count": 35,
   "id": "ce4dd461-3182-413f-96db-32baf9efb2d4",
   "metadata": {},
   "outputs": [],
   "source": [
    "## Edit this path\n",
    "HOME_DIR = 'Users/jata/Documents/Bookdel/bechdel/src/bechdel_corpus'"
   ]
  },
  {
   "cell_type": "code",
   "execution_count": 36,
   "id": "bea8ca6a-76c6-4edb-8d6d-c73dcc3b8bb8",
   "metadata": {},
   "outputs": [],
   "source": [
    "# clear\n",
    "open('books_processed.txt', 'w').close()\n",
    "open('characterList.txt', 'w').close()\n",
    "open('includedNames.txt', 'w').close()\n",
    "open('excludedNames.txt', 'w').close()"
   ]
  },
  {
   "cell_type": "code",
   "execution_count": 37,
   "id": "fd358910-4459-45ac-81cf-a51a87933d95",
   "metadata": {},
   "outputs": [
    {
     "name": "stdout",
     "output_type": "stream",
     "text": [
      "BEGIN BUILD\n",
      "\n",
      "Adding Pride and Prejudice to corpus\n",
      "\tPride and Prejudice successfully added to corpus\n",
      "\n",
      "\n",
      "Adding Sense and Sensibility to corpus\n",
      "\n",
      " sense-and-sensibility_23\n",
      "{('Annamaria', 'Female'), ('Lucy Steele', 'Female'), ('Lady Middleton', 'Female'), ('Marianne Dashwood', 'Female')} {('Elinor Dashwood', 'Female'), ('Lucy Steele', 'Female'), ('Ambiguous Miss Dashwood', 'Female'), ('Annamaria', 'Female'), ('Marianne Dashwood', 'Female'), ('Lady Middleton', 'Female')}\n",
      "\tSense and Sensibility successfully added to corpus\n",
      "\n",
      "\n",
      "Adding Emma to corpus\n",
      "\tEmma successfully added to corpus\n",
      "\n",
      "\n",
      "Adding Mansfield Park to corpus\n",
      "\tMansfield Park successfully added to corpus\n",
      "\n",
      "\n",
      "Adding Persuasion to corpus\n",
      "\tPersuasion successfully added to corpus\n",
      "\n",
      "\n",
      "BUILD COMPLETE\n",
      "WRITING TO FILE\n",
      "To access corpus contents, use BechdelCorpusObject.read_corpus()\n"
     ]
    }
   ],
   "source": [
    "##Uncomment and run\n",
    "corpus = BechdelCorpus('books.txt', HOME_DIR)"
   ]
  },
  {
   "cell_type": "code",
   "execution_count": null,
   "id": "24ae6aba-454d-41d7-b27b-d202c059c6ec",
   "metadata": {},
   "outputs": [],
   "source": []
  },
  {
   "cell_type": "code",
   "execution_count": null,
   "id": "c1618063-0265-49dc-80e3-8553750e12d3",
   "metadata": {},
   "outputs": [],
   "source": []
  }
 ],
 "metadata": {
  "kernelspec": {
   "display_name": "Python 3 (ipykernel)",
   "language": "python",
   "name": "python3"
  },
  "language_info": {
   "codemirror_mode": {
    "name": "ipython",
    "version": 3
   },
   "file_extension": ".py",
   "mimetype": "text/x-python",
   "name": "python",
   "nbconvert_exporter": "python",
   "pygments_lexer": "ipython3",
   "version": "3.10.6"
  }
 },
 "nbformat": 4,
 "nbformat_minor": 5
}
